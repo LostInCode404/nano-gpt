{
 "cells": [
  {
   "cell_type": "markdown",
   "id": "0f2827a2-1d19-4bd3-b73c-8513478b58ca",
   "metadata": {},
   "source": [
    "# NanoGPT"
   ]
  },
  {
   "cell_type": "markdown",
   "id": "8e89d4d6-6c46-4208-9e27-92de6219fbe7",
   "metadata": {},
   "source": [
    "My implementation of decoder only transformer based on Andrej Karpathy's model. This model generates Shakespeare-like text."
   ]
  },
  {
   "cell_type": "markdown",
   "id": "3163f352-902f-4564-b29b-c5f962107d80",
   "metadata": {},
   "source": [
    "## Initialize"
   ]
  },
  {
   "cell_type": "code",
   "execution_count": 88,
   "id": "8d4b84c4-124f-4751-9ac0-579aef2f5675",
   "metadata": {},
   "outputs": [],
   "source": [
    "# Imports\n",
    "import torch\n",
    "import torch.nn as nn\n",
    "import torch.nn.functional as F\n",
    "import matplotlib.pyplot as plt\n",
    "import numpy as np\n",
    "import pandas as pd\n",
    "import pickle as pkl"
   ]
  },
  {
   "cell_type": "code",
   "execution_count": 2,
   "id": "45b7c50b-a4d1-456b-b0e0-bd733da7bf29",
   "metadata": {},
   "outputs": [],
   "source": [
    "# Set torch device\n",
    "device = torch.device(\"cuda\" if torch.cuda.is_available() else \"cpu\")"
   ]
  },
  {
   "cell_type": "code",
   "execution_count": 3,
   "id": "541224ea-c867-4e92-968e-9661eb70cce4",
   "metadata": {},
   "outputs": [],
   "source": [
    "# Data constants\n",
    "DATASET_LINK='https://raw.githubusercontent.com/karpathy/char-rnn/master/data/tinyshakespeare/input.txt'"
   ]
  },
  {
   "cell_type": "code",
   "execution_count": 4,
   "id": "94b648d0-5e10-4360-bd88-13a7eafc5566",
   "metadata": {},
   "outputs": [
    {
     "data": {
      "text/plain": [
       "<torch._C.Generator at 0x7f8adb25d410>"
      ]
     },
     "execution_count": 4,
     "metadata": {},
     "output_type": "execute_result"
    }
   ],
   "source": [
    "# Set torch seed\n",
    "torch.manual_seed(42)"
   ]
  },
  {
   "cell_type": "markdown",
   "id": "b4e4176b-e3e8-41fa-be8f-abbbd52dd1d7",
   "metadata": {},
   "source": [
    "## Dataset"
   ]
  },
  {
   "cell_type": "markdown",
   "id": "1af0aeb1-941d-4172-8f62-9533041dbafe",
   "metadata": {},
   "source": [
    "### Load Dataset"
   ]
  },
  {
   "cell_type": "code",
   "execution_count": 5,
   "id": "1a465cef-42df-4f95-a800-c0fe51968c42",
   "metadata": {},
   "outputs": [
    {
     "name": "stdout",
     "output_type": "stream",
     "text": [
      "--2024-06-15 21:33:11--  https://raw.githubusercontent.com/karpathy/char-rnn/master/data/tinyshakespeare/input.txt\n",
      "Resolving raw.githubusercontent.com (raw.githubusercontent.com)... 185.199.110.133, 185.199.111.133, 185.199.108.133, ...\n",
      "Connecting to raw.githubusercontent.com (raw.githubusercontent.com)|185.199.110.133|:443... connected.\n",
      "HTTP request sent, awaiting response... 200 OK\n",
      "Length: 1115394 (1.1M) [text/plain]\n",
      "Saving to: ‘input.txt’\n",
      "\n",
      "input.txt           100%[===================>]   1.06M  --.-KB/s    in 0.06s   \n",
      "\n",
      "2024-06-15 21:33:11 (17.0 MB/s) - ‘input.txt’ saved [1115394/1115394]\n",
      "\n"
     ]
    }
   ],
   "source": [
    "# Download dataset\n",
    "!wget https://raw.githubusercontent.com/karpathy/char-rnn/master/data/tinyshakespeare/input.txt -O input.txt"
   ]
  },
  {
   "cell_type": "code",
   "execution_count": 6,
   "id": "4a475821-d24c-453e-bcab-d2bd4127b2e2",
   "metadata": {},
   "outputs": [],
   "source": [
    "# Read dataset\n",
    "raw_text = ''\n",
    "with open('./input.txt','r') as f:\n",
    "    raw_text = f.read()"
   ]
  },
  {
   "cell_type": "code",
   "execution_count": 7,
   "id": "1462a683-9abb-4606-bb1d-1ce9799c8b5f",
   "metadata": {},
   "outputs": [
    {
     "data": {
      "text/plain": [
       "1115394"
      ]
     },
     "execution_count": 7,
     "metadata": {},
     "output_type": "execute_result"
    }
   ],
   "source": [
    "# Data size\n",
    "len(raw_text)"
   ]
  },
  {
   "cell_type": "code",
   "execution_count": 8,
   "id": "048b5ad8-65d4-4337-a61e-649e621e9fc8",
   "metadata": {},
   "outputs": [
    {
     "name": "stdout",
     "output_type": "stream",
     "text": [
      "First Citizen:\n",
      "Before we proceed any further, hear me speak.\n",
      "\n",
      "All:\n",
      "Speak, speak.\n",
      "\n",
      "First Citizen:\n",
      "You\n"
     ]
    }
   ],
   "source": [
    "# Check data sample\n",
    "print(raw_text[:100])"
   ]
  },
  {
   "cell_type": "markdown",
   "id": "f02fd462-71dc-422b-a982-e075c98c7d67",
   "metadata": {},
   "source": [
    "### Build Vocabulary"
   ]
  },
  {
   "cell_type": "code",
   "execution_count": 9,
   "id": "7daea490-6988-4353-b66b-69bf9c62fa03",
   "metadata": {},
   "outputs": [],
   "source": [
    "# Get unique characters\n",
    "vocab = sorted(list(set(raw_text)))"
   ]
  },
  {
   "cell_type": "code",
   "execution_count": 10,
   "id": "b4c7d132-df28-42f2-87df-9ac0b9085347",
   "metadata": {},
   "outputs": [],
   "source": [
    "# Get vocab size\n",
    "vocab_size = len(vocab)"
   ]
  },
  {
   "cell_type": "code",
   "execution_count": 11,
   "id": "a14b6a88-0559-43d6-aaeb-35cf91c692a8",
   "metadata": {},
   "outputs": [
    {
     "name": "stdout",
     "output_type": "stream",
     "text": [
      "Vocab size:\n",
      "65\n",
      "Vocab list:\n",
      "['\\n', ' ', '!', '$', '&', \"'\", ',', '-', '.', '3', ':', ';', '?', 'A', 'B', 'C', 'D', 'E', 'F', 'G', 'H', 'I', 'J', 'K', 'L', 'M', 'N', 'O', 'P', 'Q', 'R', 'S', 'T', 'U', 'V', 'W', 'X', 'Y', 'Z', 'a', 'b', 'c', 'd', 'e', 'f', 'g', 'h', 'i', 'j', 'k', 'l', 'm', 'n', 'o', 'p', 'q', 'r', 's', 't', 'u', 'v', 'w', 'x', 'y', 'z']\n"
     ]
    }
   ],
   "source": [
    "# Print vocab and vocab size\n",
    "print(f'Vocab size:\\n{vocab_size}')\n",
    "print(f'Vocab list:\\n{vocab}')"
   ]
  },
  {
   "cell_type": "code",
   "execution_count": 12,
   "id": "aaf56b25-f14d-4b7e-a45e-56eb99a89037",
   "metadata": {},
   "outputs": [],
   "source": [
    "# Create vocab mappings\n",
    "token_to_i = {token:i for i,token in enumerate(vocab)}\n",
    "i_to_token = {i:token for i,token in enumerate(vocab)}"
   ]
  },
  {
   "cell_type": "code",
   "execution_count": 13,
   "id": "4a0296fb-a7c5-4d6e-a692-efd21b222d28",
   "metadata": {},
   "outputs": [],
   "source": [
    "# Encoder util\n",
    "def encode(s):\n",
    "    return [token_to_i[token] for token in s]\n",
    "\n",
    "# Decoder util\n",
    "def decode(s):\n",
    "    return ''.join([i_to_token[token] for token in s])"
   ]
  },
  {
   "cell_type": "code",
   "execution_count": 14,
   "id": "869fa619-7e78-43f2-a463-5956082382f1",
   "metadata": {},
   "outputs": [
    {
     "name": "stdout",
     "output_type": "stream",
     "text": [
      "[17, 52, 41, 53, 42, 43, 56, 1, 39, 52, 42, 1, 42, 43, 41, 53, 42, 43, 56, 1, 58, 43, 57, 58]\n",
      "Encoder and decoder test\n"
     ]
    }
   ],
   "source": [
    "# Test encoder and decoders\n",
    "print(encode(\"Encoder and decoder test\"))\n",
    "print(decode(encode(\"Encoder and decoder test\")))"
   ]
  },
  {
   "cell_type": "markdown",
   "id": "0e259376-5daf-4c2f-801f-499fa2c28741",
   "metadata": {},
   "source": [
    "### Tokenize Dataset"
   ]
  },
  {
   "cell_type": "code",
   "execution_count": 15,
   "id": "35f3fd03-95cd-4436-9373-e24618c8b7dd",
   "metadata": {},
   "outputs": [],
   "source": [
    "# Tokenize data\n",
    "tokenized_text = encode(raw_text)"
   ]
  },
  {
   "cell_type": "code",
   "execution_count": 16,
   "id": "abeaa42b-b113-4610-983d-978888e4e483",
   "metadata": {},
   "outputs": [],
   "source": [
    "# Convert data to tensor\n",
    "data = torch.tensor(tokenized_text, dtype=torch.int64)"
   ]
  },
  {
   "cell_type": "code",
   "execution_count": 17,
   "id": "3b86cd35-e559-4406-98db-247c0d5c1f14",
   "metadata": {},
   "outputs": [
    {
     "name": "stdout",
     "output_type": "stream",
     "text": [
      "torch.Size([1115394])\n",
      "torch.int64\n",
      "tensor([18, 47, 56, 57, 58,  1, 15, 47, 58, 47, 64, 43, 52, 10,  0, 14, 43, 44,\n",
      "        53, 56, 43,  1, 61, 43,  1, 54, 56, 53, 41, 43, 43, 42,  1, 39, 52, 63,\n",
      "         1, 44, 59, 56, 58, 46, 43, 56,  6,  1, 46, 43, 39, 56,  1, 51, 43,  1,\n",
      "        57, 54, 43, 39, 49,  8,  0,  0, 13, 50, 50, 10,  0, 31, 54, 43, 39, 49,\n",
      "         6,  1, 57, 54, 43, 39, 49,  8,  0,  0, 18, 47, 56, 57, 58,  1, 15, 47,\n",
      "        58, 47, 64, 43, 52, 10,  0, 37, 53, 59])\n"
     ]
    }
   ],
   "source": [
    "# Check data\n",
    "print(data.shape)\n",
    "print(data.dtype)\n",
    "print(data[:100])"
   ]
  },
  {
   "cell_type": "markdown",
   "id": "96d57bcf-8958-46c7-b0a3-0cf23b430ddf",
   "metadata": {},
   "source": [
    "### Train Test Split"
   ]
  },
  {
   "cell_type": "code",
   "execution_count": 18,
   "id": "c15b8d3e-6dc3-4219-942b-cf79da319fe9",
   "metadata": {},
   "outputs": [],
   "source": [
    "# Index for splitting\n",
    "split_index = int(data.shape[0] * 0.8)"
   ]
  },
  {
   "cell_type": "code",
   "execution_count": 19,
   "id": "d24d4266-ed6f-4539-8fca-ec1e377cc75a",
   "metadata": {},
   "outputs": [],
   "source": [
    "# Generate train and test data\n",
    "train_data = data[:split_index]\n",
    "test_data = data[split_index:]"
   ]
  },
  {
   "cell_type": "code",
   "execution_count": 20,
   "id": "171631ce-8f79-43e9-af48-7964191f704c",
   "metadata": {},
   "outputs": [
    {
     "name": "stdout",
     "output_type": "stream",
     "text": [
      "torch.Size([892315])\n",
      "torch.Size([223079])\n"
     ]
    }
   ],
   "source": [
    "# Print train/test sizes\n",
    "print(train_data.shape)\n",
    "print(test_data.shape)"
   ]
  },
  {
   "cell_type": "markdown",
   "id": "72fa3a8b-772d-4207-9a88-eff1db25a7af",
   "metadata": {},
   "source": [
    "### Data Batch Generator"
   ]
  },
  {
   "cell_type": "code",
   "execution_count": 21,
   "id": "dfefef87-82ca-420f-8d8e-b5c2cde2e86d",
   "metadata": {},
   "outputs": [],
   "source": [
    "# Utility to get batch\n",
    "def _get_batch(split, batch_size, block_size):\n",
    "    data_tensor = train_data if split == 'train' else test_data;\n",
    "    block_indices = torch.randint(len(data_tensor) - block_size, (batch_size,))\n",
    "    x = torch.stack([data_tensor[i:i+block_size] for i in block_indices])\n",
    "    y = torch.stack([data_tensor[i+1:i+1+block_size] for i in block_indices])\n",
    "    return x.to(device), y.to(device)\n",
    "\n",
    "# Utility to get train batches\n",
    "def get_train_batch(batch_size, block_size):\n",
    "    return _get_batch('train', batch_size, block_size)\n",
    "\n",
    "# Utility to get train batches\n",
    "def get_test_batch(batch_size, block_size):\n",
    "    return _get_batch('test', batch_size, block_size)    "
   ]
  },
  {
   "cell_type": "code",
   "execution_count": 22,
   "id": "c810871d-4af2-4d42-b072-9f71277d3ecd",
   "metadata": {},
   "outputs": [
    {
     "name": "stdout",
     "output_type": "stream",
     "text": [
      "torch.Size([4, 16])\n",
      "torch.Size([4, 16])\n",
      "tensor([[61, 47, 50, 50, 12,  0,  0, 28, 27, 24, 21, 36, 17, 26, 17, 31],\n",
      "        [43,  1, 51, 47, 45, 46, 58,  1, 39, 41, 58,  1, 58, 46, 43,  1],\n",
      "        [56,  1, 53, 44,  1, 58, 56, 47, 40, 59, 52, 43, 57,  1, 58, 46],\n",
      "        [ 1, 39,  1, 58, 39, 50, 50,  1, 44, 43, 50, 50, 53, 61,  1, 53]],\n",
      "       device='cuda:0')\n",
      "tensor([[47, 50, 50, 12,  0,  0, 28, 27, 24, 21, 36, 17, 26, 17, 31, 10],\n",
      "        [ 1, 51, 47, 45, 46, 58,  1, 39, 41, 58,  1, 58, 46, 43,  1, 61],\n",
      "        [ 1, 53, 44,  1, 58, 56, 47, 40, 59, 52, 43, 57,  1, 58, 46, 39],\n",
      "        [39,  1, 58, 39, 50, 50,  1, 44, 43, 50, 50, 53, 61,  1, 53, 44]],\n",
      "       device='cuda:0')\n"
     ]
    }
   ],
   "source": [
    "# Test batch generator\n",
    "_x, _y = get_train_batch(4,16)\n",
    "print(_x.shape)\n",
    "print(_y.shape)\n",
    "print(_x)\n",
    "print(_y)"
   ]
  },
  {
   "cell_type": "markdown",
   "id": "a87027a4-e53d-46f7-a0b8-10136f6bd428",
   "metadata": {},
   "source": [
    "## Transformer Model"
   ]
  },
  {
   "cell_type": "markdown",
   "id": "987519b5-d4af-4d97-8d42-be2861332372",
   "metadata": {},
   "source": [
    "#### Layer Norm"
   ]
  },
  {
   "cell_type": "code",
   "execution_count": 23,
   "id": "9c7dd9f3-bd29-4d52-bc15-2c5852dfdfa9",
   "metadata": {},
   "outputs": [],
   "source": [
    "# Layer norm\n",
    "class LayerNorm(nn.Module):\n",
    "\n",
    "    # Constructor\n",
    "    def __init__(self, dim, eps=1e-5):\n",
    "        super().__init__()\n",
    "        self.eps = eps\n",
    "        self.gamma = nn.Parameter(torch.ones(dim))\n",
    "        self.beta = nn.Parameter(torch.zeros(dim))\n",
    "\n",
    "    # Call method\n",
    "    def forward(self, x):\n",
    "        x_mean = x.mean(1, keepdim=True)\n",
    "        x_var = x.var(1, keepdim=True)\n",
    "        out = (x - x_mean) / torch.sqrt(x_var + self.eps)\n",
    "        out = self.gamma * out + self.beta\n",
    "        self.out = out\n",
    "        return self.out"
   ]
  },
  {
   "cell_type": "markdown",
   "id": "caa01cff-28b6-4613-ac45-7f96d2599f03",
   "metadata": {},
   "source": [
    "Test layer norm"
   ]
  },
  {
   "cell_type": "code",
   "execution_count": 24,
   "id": "a25a3907-38ef-4e83-be8f-fce513236310",
   "metadata": {},
   "outputs": [
    {
     "data": {
      "text/plain": [
       "torch.Size([16, 100])"
      ]
     },
     "execution_count": 24,
     "metadata": {},
     "output_type": "execute_result"
    }
   ],
   "source": [
    "xt = torch.randn(16, 100)\n",
    "ln = LayerNorm(100)\n",
    "xt = ln(xt)\n",
    "xt.shape"
   ]
  },
  {
   "cell_type": "code",
   "execution_count": 25,
   "id": "5145461a-c6a6-4623-980e-2fb13665ee8b",
   "metadata": {},
   "outputs": [
    {
     "data": {
      "text/plain": [
       "(tensor(-2.0862e-09, grad_fn=<MeanBackward0>),\n",
       " tensor(1.0000, grad_fn=<StdBackward0>))"
      ]
     },
     "execution_count": 25,
     "metadata": {},
     "output_type": "execute_result"
    }
   ],
   "source": [
    "xt[0,:].mean(), xt[0,:].std()"
   ]
  },
  {
   "cell_type": "code",
   "execution_count": 26,
   "id": "5ce64660-d054-414a-844b-b0f3f390659c",
   "metadata": {},
   "outputs": [
    {
     "data": {
      "text/plain": [
       "tensor([1.0000, 1.0000, 1.0000, 1.0000, 1.0000, 1.0000, 1.0000, 1.0000, 1.0000,\n",
       "        1.0000, 1.0000, 1.0000, 1.0000, 1.0000, 1.0000, 1.0000],\n",
       "       grad_fn=<StdBackward0>)"
      ]
     },
     "execution_count": 26,
     "metadata": {},
     "output_type": "execute_result"
    }
   ],
   "source": [
    "xt.std(dim=1)"
   ]
  },
  {
   "cell_type": "markdown",
   "id": "0f21c4cd-735b-43ad-b4d6-5ec196848a7a",
   "metadata": {},
   "source": [
    "#### Multi-Head Attention"
   ]
  },
  {
   "cell_type": "code",
   "execution_count": 27,
   "id": "ad47b089-001b-4401-8333-20a5ebfa2771",
   "metadata": {},
   "outputs": [],
   "source": [
    "# Transformer head modue\n",
    "class Head(nn.Module):\n",
    "\n",
    "    # Constructor\n",
    "    def __init__(self, block_size, n_embed, head_size, dropout):\n",
    "        super().__init__()\n",
    "\n",
    "        # Private properties\n",
    "        self.head_size = head_size\n",
    "\n",
    "        # K,Q,V layers\n",
    "        self.key = nn.Linear(n_embed, head_size, bias=False)\n",
    "        self.query = nn.Linear(n_embed, head_size, bias=False)\n",
    "        self.value = nn.Linear(n_embed, head_size, bias=False)\n",
    "\n",
    "        # Triangular matrix buffer\n",
    "        self.register_buffer('tril', torch.tril(torch.ones(block_size, block_size)))\n",
    "\n",
    "        # Dropout\n",
    "        self.dropout = nn.Dropout(dropout)\n",
    "\n",
    "    # Forward method\n",
    "    def forward(self, x):\n",
    "\n",
    "        # Get dims\n",
    "        B,T,embed = x.shape\n",
    "\n",
    "        # Calculate K,Q,V\n",
    "        k = self.key(x) # (B,T,e) => (B,T,h)\n",
    "        q = self.query(x) # (B,T,e) => (B,T,h)\n",
    "        v = self.value(x) # (B,T,e) => (B,T,h)\n",
    "\n",
    "        # Calculate self attention matrix\n",
    "        attn = (q @ k.transpose(-2,-1)) * np.sqrt(self.head_size) # (B,T,h) @ (B,h,T) => (B,T,T)\n",
    "        attn = attn.masked_fill(self.tril[:T,:T] == 0, float('-inf')) # (B,T,T)\n",
    "        attn = F.softmax(attn, dim=-1) # B,T,T\n",
    "        attn = self.dropout(attn)\n",
    "\n",
    "        # Aggregate values based on attention\n",
    "        out = attn @ v\n",
    "        return out"
   ]
  },
  {
   "cell_type": "code",
   "execution_count": 28,
   "id": "68674800-02b9-4234-8ee3-71f8a493b54e",
   "metadata": {},
   "outputs": [],
   "source": [
    "# Multi head attention module\n",
    "class MultiHeadAttention(nn.Module):\n",
    "\n",
    "    # Constructor\n",
    "    def __init__(self, block_size, n_embed, n_heads, head_size, dropout):\n",
    "        super().__init__()\n",
    "\n",
    "        # Add multiple heads\n",
    "        self.heads = [Head(block_size, n_embed, head_size, dropout).to(device) for _ in range(n_heads)]\n",
    "\n",
    "        # Linear projection\n",
    "        self.linear = nn.Linear(n_heads * head_size, n_embed)\n",
    "\n",
    "        # Dropout\n",
    "        self.dropout = nn.Dropout(dropout)\n",
    "\n",
    "    # Forward method\n",
    "    def forward(self, x):\n",
    "\n",
    "        # Concat results from all heads and return\n",
    "        out = torch.cat([head(x) for head in self.heads], dim=-1)\n",
    "        out = self.dropout(self.linear(out))\n",
    "        return out"
   ]
  },
  {
   "cell_type": "markdown",
   "id": "9da1bdc2-b600-44e2-8b5a-01a8fa9282fb",
   "metadata": {},
   "source": [
    "#### Feed forward"
   ]
  },
  {
   "cell_type": "code",
   "execution_count": 29,
   "id": "3244a49a-4c3c-4879-a927-5f62bda5c9d2",
   "metadata": {},
   "outputs": [],
   "source": [
    "# Feed forward block\n",
    "class FeedForward(nn.Module):\n",
    "\n",
    "    # Constructor\n",
    "    def __init__(self, dim, dropout):\n",
    "        super().__init__()\n",
    "        self.nn = nn.Sequential(\n",
    "            nn.Linear(dim, 4*dim),\n",
    "            nn.ReLU(),\n",
    "            nn.Linear(4*dim, dim),\n",
    "            nn.Dropout(dropout)\n",
    "        )\n",
    "\n",
    "    # Forward method\n",
    "    def forward(self, x):\n",
    "        return self.nn(x)"
   ]
  },
  {
   "cell_type": "markdown",
   "id": "aa1364f6-2eb2-466e-975d-d69e45d5ab59",
   "metadata": {},
   "source": [
    "#### Transformer Blocks"
   ]
  },
  {
   "cell_type": "code",
   "execution_count": 30,
   "id": "2ac4ee14-671a-4689-91e0-11eca0837a3e",
   "metadata": {},
   "outputs": [],
   "source": [
    "# Transformer's decoder block (No need of encoder block in GPT)\n",
    "class DecoderBlock(nn.Module):\n",
    "\n",
    "    # Constructor\n",
    "    def __init__(self, block_size, n_embed, n_heads, dropout):\n",
    "        super().__init__()\n",
    "        head_size = n_embed // n_heads\n",
    "        \n",
    "        # Self attention and feed forward layers\n",
    "        self.self_attn = MultiHeadAttention(block_size, n_embed, n_heads, head_size, dropout)\n",
    "        self.ff = FeedForward(n_embed, dropout)\n",
    "\n",
    "        # layer norm\n",
    "        self.ln_1 = nn.LayerNorm(n_embed)\n",
    "        self.ln_2 = nn.LayerNorm(n_embed)\n",
    "\n",
    "    # Forward method\n",
    "    def forward(self,x):\n",
    "        x = x + self.self_attn(self.ln_1(x))\n",
    "        x = x + self.ff(self.ln_2(x))\n",
    "        return x"
   ]
  },
  {
   "cell_type": "markdown",
   "id": "3dd82079-c1c4-4581-86b3-2be6c6c4a1e5",
   "metadata": {},
   "source": [
    "#### Transformer Model"
   ]
  },
  {
   "cell_type": "code",
   "execution_count": 31,
   "id": "6679ff25-7f38-43c7-bb11-c1b13a6f6579",
   "metadata": {},
   "outputs": [],
   "source": [
    "# Transformer model class\n",
    "class TransformerModel(nn.Module):\n",
    "\n",
    "    # Constructor\n",
    "    def __init__(self, block_size, n_embed, n_heads, n_layers, dropout):\n",
    "        super().__init__()\n",
    "\n",
    "        # Token embedding\n",
    "        self.token_embedding_table = nn.Embedding(vocab_size, n_embed)\n",
    "\n",
    "        # Positional embedding\n",
    "        self.positional_embedding_table = nn.Embedding(block_size, n_embed)\n",
    "\n",
    "        # Self attention layer\n",
    "        self.blocks = nn.Sequential(*[DecoderBlock(block_size=block_size, n_embed=n_embed, n_heads=n_heads, dropout=dropout) for _ in range(n_layers)])\n",
    "        self.ln = nn.LayerNorm(n_embed)\n",
    "        \n",
    "        # Linear layer\n",
    "        self.lm_head = nn.Linear(n_embed, vocab_size)\n",
    "\n",
    "    # Forward method\n",
    "    def forward(self, x, targets=None):\n",
    "    \n",
    "        # x is (B,T) and targets is also (B,T)\n",
    "        B,T = x.shape\n",
    "\n",
    "        # Apply token and positional embeddings\n",
    "        tok_embedding = self.token_embedding_table(x) # embeddings will be (B,T,n_embed)\n",
    "        pos_embedding = self.positional_embedding_table(torch.arange(T, device=device)) # embeddings will be (T,n_embed)\n",
    "        x = tok_embedding + pos_embedding # (B,T,n_embed)\n",
    "        \n",
    "        # Apply decoder blocks and layer norm\n",
    "        x = self.blocks(x) # (B,T,n_embed)\n",
    "        x = self.ln(x) # (B,T,n_embed)\n",
    "\n",
    "        # Get logits\n",
    "        logits = self.lm_head(x) # logits will be (B,T,vocab_size)\n",
    "\n",
    "        # Get loss\n",
    "        if targets is None:\n",
    "            loss = None\n",
    "        else:\n",
    "            B,T,C = logits.shape\n",
    "            logits = logits.view(B*T, C)\n",
    "            targets = targets.view(B*T)\n",
    "            loss = F.cross_entropy(logits, targets)\n",
    "\n",
    "        # Return\n",
    "        return logits, loss\n",
    "\n",
    "    # Generate method to generate next tokens\n",
    "    def generate(self, x, max_tokens):\n",
    "\n",
    "        # Loop and generate tokens\n",
    "        for _ in range(max_tokens):\n",
    "\n",
    "            # Get last block\n",
    "            last_block = x[:,-block_size:]\n",
    "\n",
    "            # Get predictions\n",
    "            logits, loss = self(last_block) # logits: (B,T,vocab_size)\n",
    "\n",
    "            # Get generated token and append to x\n",
    "            logits = logits[:,-1,:] # (B,vocab_size)\n",
    "            probs = F.softmax(logits, dim=-1) # (B,vocab_size)\n",
    "            next_token = torch.multinomial(probs, num_samples=1) # (B,1)\n",
    "            x = torch.cat((x, next_token), dim=1) # (B,T+1)\n",
    "\n",
    "        # Return generated text\n",
    "        return x"
   ]
  },
  {
   "cell_type": "markdown",
   "id": "74ba6578-7073-4382-9505-ccda0e0b11d7",
   "metadata": {},
   "source": [
    "Experiments"
   ]
  },
  {
   "cell_type": "code",
   "execution_count": 32,
   "id": "7157b603-473c-4499-8a7c-62fb82c9709b",
   "metadata": {},
   "outputs": [
    {
     "name": "stdout",
     "output_type": "stream",
     "text": [
      "torch.Size([64, 65])\n"
     ]
    }
   ],
   "source": [
    "model = TransformerModel(\n",
    "    n_embed = 256,\n",
    "    block_size = 256,\n",
    "    n_heads = 8,\n",
    "    n_layers = 8,\n",
    "    dropout=0.2\n",
    ")\n",
    "model.to(device)\n",
    "logits, loss = model(_x.to(device),_y.to(device))\n",
    "print(logits.shape)"
   ]
  },
  {
   "cell_type": "markdown",
   "id": "84843511-241d-4602-8aff-7d592dede115",
   "metadata": {},
   "source": [
    "## Training"
   ]
  },
  {
   "cell_type": "markdown",
   "id": "b92f670f-cb69-4f22-a3ec-31b4e5372157",
   "metadata": {},
   "source": [
    "#### Training Utils"
   ]
  },
  {
   "cell_type": "code",
   "execution_count": 33,
   "id": "01f4551b-f9d1-462d-8538-f3e783fe3929",
   "metadata": {},
   "outputs": [],
   "source": [
    "# Constants\n",
    "eval_iters = 100"
   ]
  },
  {
   "cell_type": "code",
   "execution_count": 34,
   "id": "8b6f9c92-aa5e-43b1-ae33-63712a5f8738",
   "metadata": {},
   "outputs": [],
   "source": [
    "# Function to estimate loss based on random batches\n",
    "@torch.no_grad()\n",
    "def estimate_loss(m, batch_size, block_size):\n",
    "    out = {}\n",
    "    model.eval()\n",
    "    train_losses = torch.zeros(eval_iters)\n",
    "    val_losses = torch.zeros(eval_iters)\n",
    "    for i in range(eval_iters):\n",
    "        x, y = get_train_batch(batch_size, block_size)\n",
    "        logits, loss = m(x, y)\n",
    "        train_losses[i] = loss.item()\n",
    "        x, y = get_test_batch(batch_size, block_size)\n",
    "        logits, loss = m(x, y)\n",
    "        val_losses[i] = loss.item()\n",
    "    return train_losses.mean(), val_losses.mean()"
   ]
  },
  {
   "cell_type": "code",
   "execution_count": 57,
   "id": "79cbc755-d17f-4d95-91c0-a99e2dca1b35",
   "metadata": {},
   "outputs": [],
   "source": [
    "# Training loop\n",
    "def train(model, max_steps, eval_interval, loss_list, init_step=0):\n",
    "    model.train()\n",
    "\n",
    "    # Loop steps\n",
    "    for step in range(max_steps):\n",
    "    \n",
    "        # Get sample batch\n",
    "        x, y = get_train_batch(batch_size, block_size)\n",
    "    \n",
    "        # Evaluate\n",
    "        logits, loss = model(x.to(device),y.to(device))\n",
    "        optimizer.zero_grad(set_to_none=True)\n",
    "        loss.backward()\n",
    "        optimizer.step()\n",
    "    \n",
    "        # Estimate and print loss\n",
    "        if(step == 0 or (step + 1) % eval_interval == 0 or step == max_steps - 1):\n",
    "            train_loss, val_loss = estimate_loss(model, batch_size, block_size)\n",
    "            loss_list.append({\n",
    "                'step': init_step+step,\n",
    "                'train_loss': train_loss,\n",
    "                'val_loss': val_loss\n",
    "            })\n",
    "            print(f'Step {init_step+step+1:<4}: train loss [{train_loss:.4f}], val loss:[{val_loss:.4f}] ')"
   ]
  },
  {
   "cell_type": "markdown",
   "id": "464c9180-b452-48af-9408-0f0619fe7ad2",
   "metadata": {},
   "source": [
    "#### Training Setup"
   ]
  },
  {
   "cell_type": "code",
   "execution_count": 36,
   "id": "4c8da3cb-e187-457b-8a62-665a3826fd43",
   "metadata": {},
   "outputs": [],
   "source": [
    "# Model params\n",
    "batch_size = 64\n",
    "block_size = 256\n",
    "learning_rate = 5e-4\n",
    "embedding_dim = 256\n",
    "num_heads = 8\n",
    "num_layers = 6\n",
    "dropout = 0.2"
   ]
  },
  {
   "cell_type": "code",
   "execution_count": 58,
   "id": "d10d1ae3-bfb2-4a52-a2b4-9fd4b260ad69",
   "metadata": {},
   "outputs": [
    {
     "data": {
      "text/plain": [
       "TransformerModel(\n",
       "  (token_embedding_table): Embedding(65, 256)\n",
       "  (positional_embedding_table): Embedding(256, 256)\n",
       "  (blocks): Sequential(\n",
       "    (0): DecoderBlock(\n",
       "      (self_attn): MultiHeadAttention(\n",
       "        (linear): Linear(in_features=256, out_features=256, bias=True)\n",
       "        (dropout): Dropout(p=0.2, inplace=False)\n",
       "      )\n",
       "      (ff): FeedForward(\n",
       "        (nn): Sequential(\n",
       "          (0): Linear(in_features=256, out_features=1024, bias=True)\n",
       "          (1): ReLU()\n",
       "          (2): Linear(in_features=1024, out_features=256, bias=True)\n",
       "          (3): Dropout(p=0.2, inplace=False)\n",
       "        )\n",
       "      )\n",
       "      (ln_1): LayerNorm((256,), eps=1e-05, elementwise_affine=True)\n",
       "      (ln_2): LayerNorm((256,), eps=1e-05, elementwise_affine=True)\n",
       "    )\n",
       "    (1): DecoderBlock(\n",
       "      (self_attn): MultiHeadAttention(\n",
       "        (linear): Linear(in_features=256, out_features=256, bias=True)\n",
       "        (dropout): Dropout(p=0.2, inplace=False)\n",
       "      )\n",
       "      (ff): FeedForward(\n",
       "        (nn): Sequential(\n",
       "          (0): Linear(in_features=256, out_features=1024, bias=True)\n",
       "          (1): ReLU()\n",
       "          (2): Linear(in_features=1024, out_features=256, bias=True)\n",
       "          (3): Dropout(p=0.2, inplace=False)\n",
       "        )\n",
       "      )\n",
       "      (ln_1): LayerNorm((256,), eps=1e-05, elementwise_affine=True)\n",
       "      (ln_2): LayerNorm((256,), eps=1e-05, elementwise_affine=True)\n",
       "    )\n",
       "    (2): DecoderBlock(\n",
       "      (self_attn): MultiHeadAttention(\n",
       "        (linear): Linear(in_features=256, out_features=256, bias=True)\n",
       "        (dropout): Dropout(p=0.2, inplace=False)\n",
       "      )\n",
       "      (ff): FeedForward(\n",
       "        (nn): Sequential(\n",
       "          (0): Linear(in_features=256, out_features=1024, bias=True)\n",
       "          (1): ReLU()\n",
       "          (2): Linear(in_features=1024, out_features=256, bias=True)\n",
       "          (3): Dropout(p=0.2, inplace=False)\n",
       "        )\n",
       "      )\n",
       "      (ln_1): LayerNorm((256,), eps=1e-05, elementwise_affine=True)\n",
       "      (ln_2): LayerNorm((256,), eps=1e-05, elementwise_affine=True)\n",
       "    )\n",
       "    (3): DecoderBlock(\n",
       "      (self_attn): MultiHeadAttention(\n",
       "        (linear): Linear(in_features=256, out_features=256, bias=True)\n",
       "        (dropout): Dropout(p=0.2, inplace=False)\n",
       "      )\n",
       "      (ff): FeedForward(\n",
       "        (nn): Sequential(\n",
       "          (0): Linear(in_features=256, out_features=1024, bias=True)\n",
       "          (1): ReLU()\n",
       "          (2): Linear(in_features=1024, out_features=256, bias=True)\n",
       "          (3): Dropout(p=0.2, inplace=False)\n",
       "        )\n",
       "      )\n",
       "      (ln_1): LayerNorm((256,), eps=1e-05, elementwise_affine=True)\n",
       "      (ln_2): LayerNorm((256,), eps=1e-05, elementwise_affine=True)\n",
       "    )\n",
       "    (4): DecoderBlock(\n",
       "      (self_attn): MultiHeadAttention(\n",
       "        (linear): Linear(in_features=256, out_features=256, bias=True)\n",
       "        (dropout): Dropout(p=0.2, inplace=False)\n",
       "      )\n",
       "      (ff): FeedForward(\n",
       "        (nn): Sequential(\n",
       "          (0): Linear(in_features=256, out_features=1024, bias=True)\n",
       "          (1): ReLU()\n",
       "          (2): Linear(in_features=1024, out_features=256, bias=True)\n",
       "          (3): Dropout(p=0.2, inplace=False)\n",
       "        )\n",
       "      )\n",
       "      (ln_1): LayerNorm((256,), eps=1e-05, elementwise_affine=True)\n",
       "      (ln_2): LayerNorm((256,), eps=1e-05, elementwise_affine=True)\n",
       "    )\n",
       "    (5): DecoderBlock(\n",
       "      (self_attn): MultiHeadAttention(\n",
       "        (linear): Linear(in_features=256, out_features=256, bias=True)\n",
       "        (dropout): Dropout(p=0.2, inplace=False)\n",
       "      )\n",
       "      (ff): FeedForward(\n",
       "        (nn): Sequential(\n",
       "          (0): Linear(in_features=256, out_features=1024, bias=True)\n",
       "          (1): ReLU()\n",
       "          (2): Linear(in_features=1024, out_features=256, bias=True)\n",
       "          (3): Dropout(p=0.2, inplace=False)\n",
       "        )\n",
       "      )\n",
       "      (ln_1): LayerNorm((256,), eps=1e-05, elementwise_affine=True)\n",
       "      (ln_2): LayerNorm((256,), eps=1e-05, elementwise_affine=True)\n",
       "    )\n",
       "  )\n",
       "  (ln): LayerNorm((256,), eps=1e-05, elementwise_affine=True)\n",
       "  (lm_head): Linear(in_features=256, out_features=65, bias=True)\n",
       ")"
      ]
     },
     "execution_count": 58,
     "metadata": {},
     "output_type": "execute_result"
    }
   ],
   "source": [
    "# Model\n",
    "model = TransformerModel(\n",
    "    n_embed = embedding_dim,\n",
    "    block_size = block_size,\n",
    "    n_heads = num_heads,\n",
    "    n_layers = num_layers,\n",
    "    dropout=dropout\n",
    ")\n",
    "model.to(device)"
   ]
  },
  {
   "cell_type": "code",
   "execution_count": 59,
   "id": "9c07b076-8b9f-4131-a617-14f89789bba8",
   "metadata": {},
   "outputs": [],
   "source": [
    "# Training params\n",
    "eval_iters = 100\n",
    "eval_interval = 100\n",
    "learning_rate = 2e-4"
   ]
  },
  {
   "cell_type": "code",
   "execution_count": 60,
   "id": "e2672b54-be19-4a77-8ebd-767b72ea6acd",
   "metadata": {},
   "outputs": [],
   "source": [
    "# Optimizer\n",
    "optimizer = torch.optim.AdamW(model.parameters(), lr=learning_rate)"
   ]
  },
  {
   "cell_type": "markdown",
   "id": "d66b66d2-be6d-471a-baf8-3473ae6f87b4",
   "metadata": {},
   "source": [
    "#### Training"
   ]
  },
  {
   "cell_type": "code",
   "execution_count": 62,
   "id": "ebe810fa-7b12-4723-bc41-9739e2d80a3a",
   "metadata": {},
   "outputs": [],
   "source": [
    "# Loss data\n",
    "loss_data = []"
   ]
  },
  {
   "cell_type": "code",
   "execution_count": 63,
   "id": "d34fe14b-29fe-4aee-adc0-e9d30ece22da",
   "metadata": {},
   "outputs": [
    {
     "name": "stdout",
     "output_type": "stream",
     "text": [
      "Step 1   : train loss [4.0304], val loss:[4.0382] \n",
      "Step 100 : train loss [2.5627], val loss:[2.5893] \n",
      "Step 200 : train loss [2.4965], val loss:[2.5333] \n",
      "Step 300 : train loss [2.4738], val loss:[2.5147] \n",
      "Step 400 : train loss [2.4607], val loss:[2.5000] \n",
      "Step 500 : train loss [2.4537], val loss:[2.4966] \n",
      "Step 600 : train loss [2.4439], val loss:[2.4900] \n",
      "Step 700 : train loss [2.4333], val loss:[2.4828] \n",
      "Step 800 : train loss [2.4194], val loss:[2.4739] \n",
      "Step 900 : train loss [2.4051], val loss:[2.4602] \n",
      "Step 1000: train loss [2.3843], val loss:[2.4393] \n",
      "Step 1100: train loss [2.3630], val loss:[2.4241] \n",
      "Step 1200: train loss [2.3323], val loss:[2.4024] \n",
      "Step 1300: train loss [2.2941], val loss:[2.3667] \n",
      "Step 1400: train loss [2.2572], val loss:[2.3352] \n",
      "Step 1500: train loss [2.2225], val loss:[2.3089] \n",
      "Step 1600: train loss [2.1725], val loss:[2.2639] \n",
      "Step 1700: train loss [2.1313], val loss:[2.2224] \n",
      "Step 1800: train loss [2.0986], val loss:[2.2023] \n",
      "Step 1900: train loss [2.0708], val loss:[2.1714] \n",
      "Step 2000: train loss [2.0419], val loss:[2.1598] \n",
      "Step 2100: train loss [2.0118], val loss:[2.1340] \n",
      "Step 2200: train loss [1.9914], val loss:[2.1102] \n",
      "Step 2300: train loss [1.9659], val loss:[2.0903] \n",
      "Step 2400: train loss [1.9419], val loss:[2.0697] \n",
      "Step 2500: train loss [1.9170], val loss:[2.0578] \n",
      "Step 2600: train loss [1.8966], val loss:[2.0425] \n",
      "Step 2700: train loss [1.8812], val loss:[2.0315] \n",
      "Step 2800: train loss [1.8587], val loss:[2.0194] \n",
      "Step 2900: train loss [1.8363], val loss:[2.0112] \n",
      "Step 3000: train loss [1.8248], val loss:[1.9975] \n",
      "Step 3100: train loss [1.8003], val loss:[1.9737] \n",
      "Step 3200: train loss [1.7859], val loss:[1.9678] \n",
      "Step 3300: train loss [1.7717], val loss:[1.9553] \n",
      "Step 3400: train loss [1.7569], val loss:[1.9397] \n",
      "Step 3500: train loss [1.7392], val loss:[1.9276] \n",
      "Step 3600: train loss [1.7246], val loss:[1.9167] \n",
      "Step 3700: train loss [1.7073], val loss:[1.9038] \n",
      "Step 3800: train loss [1.7015], val loss:[1.9047] \n",
      "Step 3900: train loss [1.6855], val loss:[1.8871] \n",
      "Step 4000: train loss [1.6711], val loss:[1.8802] \n",
      "Step 4100: train loss [1.6654], val loss:[1.8744] \n",
      "Step 4200: train loss [1.6565], val loss:[1.8677] \n",
      "Step 4300: train loss [1.6457], val loss:[1.8540] \n",
      "Step 4400: train loss [1.6322], val loss:[1.8567] \n",
      "Step 4500: train loss [1.6218], val loss:[1.8432] \n",
      "Step 4600: train loss [1.6109], val loss:[1.8477] \n",
      "Step 4700: train loss [1.6071], val loss:[1.8312] \n",
      "Step 4800: train loss [1.5972], val loss:[1.8265] \n",
      "Step 4900: train loss [1.5912], val loss:[1.8246] \n",
      "Step 5000: train loss [1.5753], val loss:[1.8119] \n"
     ]
    }
   ],
   "source": [
    "# Train 5000 steps\n",
    "train(model=model, max_steps=5000, eval_interval=eval_interval, loss_list=loss_data, init_step=0)"
   ]
  },
  {
   "cell_type": "code",
   "execution_count": 76,
   "id": "7037c567-f16a-4d1f-86f1-1490c2a7c40f",
   "metadata": {},
   "outputs": [],
   "source": [
    "# Save checkpoint\n",
    "torch.save(model, './model_5k_steps_2e-4_lr.pt')"
   ]
  },
  {
   "cell_type": "code",
   "execution_count": 79,
   "id": "0c9ff4f6-5177-46bd-98d3-8f9420d6f158",
   "metadata": {},
   "outputs": [
    {
     "name": "stdout",
     "output_type": "stream",
     "text": [
      "Step 5001: train loss [1.6677], val loss:[1.9133] \n",
      "Step 5100: train loss [1.5792], val loss:[1.8192] \n",
      "Step 5200: train loss [1.5640], val loss:[1.7979] \n",
      "Step 5300: train loss [1.5558], val loss:[1.8005] \n",
      "Step 5400: train loss [1.5497], val loss:[1.7934] \n",
      "Step 5500: train loss [1.5454], val loss:[1.7962] \n",
      "Step 5600: train loss [1.5339], val loss:[1.7881] \n",
      "Step 5700: train loss [1.5330], val loss:[1.7873] \n",
      "Step 5800: train loss [1.5232], val loss:[1.7907] \n",
      "Step 5900: train loss [1.5176], val loss:[1.7812] \n",
      "Step 6000: train loss [1.5073], val loss:[1.7846] \n",
      "Step 6100: train loss [1.5068], val loss:[1.7680] \n",
      "Step 6200: train loss [1.5026], val loss:[1.7774] \n",
      "Step 6300: train loss [1.5003], val loss:[1.7631] \n",
      "Step 6400: train loss [1.4895], val loss:[1.7587] \n",
      "Step 6500: train loss [1.4891], val loss:[1.7629] \n",
      "Step 6600: train loss [1.4836], val loss:[1.7568] \n",
      "Step 6700: train loss [1.4777], val loss:[1.7575] \n",
      "Step 6800: train loss [1.4738], val loss:[1.7501] \n",
      "Step 6900: train loss [1.4658], val loss:[1.7479] \n",
      "Step 7000: train loss [1.4618], val loss:[1.7516] \n",
      "Step 7100: train loss [1.4571], val loss:[1.7420] \n",
      "Step 7200: train loss [1.4614], val loss:[1.7493] \n",
      "Step 7300: train loss [1.4506], val loss:[1.7324] \n",
      "Step 7400: train loss [1.4476], val loss:[1.7497] \n",
      "Step 7500: train loss [1.4429], val loss:[1.7328] \n"
     ]
    }
   ],
   "source": [
    "# Train 2500 more steps (Total 7500)\n",
    "train(model=model, max_steps=2500, eval_interval=eval_interval, loss_list=loss_data, init_step=5000)"
   ]
  },
  {
   "cell_type": "code",
   "execution_count": 80,
   "id": "7f471989-0b5c-4646-b961-0dc8cddc8c2b",
   "metadata": {},
   "outputs": [],
   "source": [
    "# Save checkpoint\n",
    "torch.save(model, './model_7.5k_steps_2e-4_lr.pt')"
   ]
  },
  {
   "cell_type": "code",
   "execution_count": 82,
   "id": "170c405c-25a0-4eff-8fdb-ec88a4eaf61e",
   "metadata": {},
   "outputs": [
    {
     "name": "stdout",
     "output_type": "stream",
     "text": [
      "Step 7501: train loss [1.5079], val loss:[1.7998] \n",
      "Step 7600: train loss [1.4361], val loss:[1.7311] \n",
      "Step 7700: train loss [1.4310], val loss:[1.7314] \n",
      "Step 7800: train loss [1.4293], val loss:[1.7296] \n",
      "Step 7900: train loss [1.4305], val loss:[1.7300] \n",
      "Step 8000: train loss [1.4224], val loss:[1.7230] \n",
      "Step 8100: train loss [1.4132], val loss:[1.7253] \n",
      "Step 8200: train loss [1.4157], val loss:[1.7260] \n",
      "Step 8300: train loss [1.4102], val loss:[1.7159] \n",
      "Step 8400: train loss [1.4099], val loss:[1.7244] \n",
      "Step 8500: train loss [1.4072], val loss:[1.7209] \n",
      "Step 8600: train loss [1.4039], val loss:[1.7174] \n",
      "Step 8700: train loss [1.3998], val loss:[1.7177] \n",
      "Step 8800: train loss [1.3954], val loss:[1.7157] \n",
      "Step 8900: train loss [1.3955], val loss:[1.7116] \n",
      "Step 9000: train loss [1.3910], val loss:[1.7197] \n",
      "Step 9100: train loss [1.3888], val loss:[1.7153] \n",
      "Step 9200: train loss [1.3783], val loss:[1.7092] \n",
      "Step 9300: train loss [1.3820], val loss:[1.7104] \n",
      "Step 9400: train loss [1.3762], val loss:[1.7093] \n",
      "Step 9500: train loss [1.3762], val loss:[1.7158] \n",
      "Step 9600: train loss [1.3780], val loss:[1.7170] \n",
      "Step 9700: train loss [1.3713], val loss:[1.6991] \n",
      "Step 9800: train loss [1.3691], val loss:[1.7080] \n",
      "Step 9900: train loss [1.3649], val loss:[1.7028] \n",
      "Step 10000: train loss [1.3635], val loss:[1.7094] \n"
     ]
    }
   ],
   "source": [
    "# Train 2500 more steps (Total 10000)\n",
    "train(model=model, max_steps=2500, eval_interval=eval_interval, loss_list=loss_data, init_step=7500)"
   ]
  },
  {
   "cell_type": "code",
   "execution_count": 83,
   "id": "5d621e3d-fd2e-4d6a-8ea3-7b04f13cbcbe",
   "metadata": {},
   "outputs": [],
   "source": [
    "# Save checkpoint\n",
    "torch.save(model, './model_10k_steps_2e-4_lr.pt')"
   ]
  },
  {
   "cell_type": "code",
   "execution_count": 115,
   "id": "83c5ad1c-14c9-403d-b4c7-a3a87af08162",
   "metadata": {},
   "outputs": [
    {
     "data": {
      "text/plain": [
       "<matplotlib.legend.Legend at 0x7f8a7d1c2150>"
      ]
     },
     "execution_count": 115,
     "metadata": {},
     "output_type": "execute_result"
    },
    {
     "data": {
      "image/png": "[encoded data removed]",
      "text/plain": [
       "<Figure size 640x480 with 1 Axes>"
      ]
     },
     "metadata": {},
     "output_type": "display_data"
    }
   ],
   "source": [
    "# Plot losses\n",
    "df = pd.DataFrame(loss_data)\n",
    "df = df.drop([df[df.step == 7500].index[0], df[df.step == 5000].index[0]]) # Drop the first record on resuming, else we will have 5000 and 5001 both\n",
    "plt.plot(df['step'], df['train_loss'])\n",
    "plt.plot(df['step'], df['val_loss'])\n",
    "plt.xlabel('Training Steps')\n",
    "plt.ylabel('Loss')\n",
    "plt.legend(['Training', 'Validation'], loc='upper right')"
   ]
  },
  {
   "cell_type": "code",
   "execution_count": 89,
   "id": "eaff78c9-f39d-47ff-b733-71910eedb5f4",
   "metadata": {},
   "outputs": [],
   "source": [
    "# Save loss data\n",
    "with open('losses.pkl','wb') as f:\n",
    "    pkl.dump(loss_data, f)"
   ]
  },
  {
   "cell_type": "code",
   "execution_count": 116,
   "id": "6d87dacb-0e90-4030-bf21-73d3fc994f09",
   "metadata": {},
   "outputs": [
    {
     "name": "stdout",
     "output_type": "stream",
     "text": [
      "\n",
      "Wouldst he fair of in this laster'd birds,--\n",
      "\n",
      "PRIStETER:\n",
      "Thou knows town the trumphants one served\n",
      "What I make at about reptience in on queen;\n",
      "Shall light in once needs though the herebs,\n",
      "Could be confort thee: bry with me fin all walf,\n",
      "Take thou, ere we grant down thee hents,\n",
      "And bid Ithe the cause enjorn taken tee\n",
      "hore place they some of the wronch; when left angue,\n",
      "But weep the freely to city charge:\n",
      "There Clifford's speed, alas, and becomend severight,\n",
      "Which this by mine a three to the worst.\n",
      "\n",
      "VALET:\n",
      "Alack, lord.\n",
      "\n",
      "BUCKINGHAM:\n",
      "Then busines down?\n",
      "Mark thou shad for the pirace,\n",
      "The feary operfice I see at will slend\n",
      "And the senate, go is that a condauses\n",
      "in that Maristake thee come to my queen!\n",
      "\n",
      "KING RICHARD II:\n",
      "Who young foranot you and may me now we in merry,\n",
      "Upon the guard instatily: bear livs hee, me lets\n",
      "To hath been and onceivil age and the sabsed owe bird,\n",
      "Who can all them before as hour, return, pity were to me\n",
      "His sile kindly father 'Doles and the vown:\n",
      "And news shall quarrel\n"
     ]
    }
   ],
   "source": [
    "# Test generation\n",
    "gen = model.generate(torch.zeros((1,1), dtype=torch.long, device=device), 1000)\n",
    "print(decode(gen[0].tolist()))"
   ]
  },
  {
   "cell_type": "code",
   "execution_count": 117,
   "id": "fdec3bb2-14be-4088-9e23-361fbd812f0a",
   "metadata": {},
   "outputs": [
    {
     "name": "stdout",
     "output_type": "stream",
     "text": [
      "\n",
      "And will my rasy; condem'd lie thee sensite\n",
      "Of promperying look upon upon.\n",
      "Helpinage good to the graftere;\n",
      "\n",
      "GLOUCESTER:\n",
      "None consin in, or let to justic it your day\n",
      "When they are asleep-wachmen his poor\n",
      "Burging a king: when here it is a the tides\n",
      "Would drink to the point, next with thy state:\n",
      "And be seen your we both 'gainst your wates; rather all\n",
      "And more no with the life that daught from my lord.\n",
      "\n",
      "KING HENRY VITHORK:\n",
      "It not the ciupand's each off miish?\n",
      "\n",
      "DUKESS OF YORK:\n",
      "And what thou never sadom?\n",
      "\n",
      "VOLUMNIA:\n",
      "Too.\n",
      "\n",
      "YORK:\n",
      "AI will so the such of not or speedishy soul!\n",
      "\n",
      "Citizens:\n",
      "If thee to not leave them I bury, and his like,\n",
      "To this cricks from drops with not be reful die.\n",
      "\n",
      "DUCHESS OF YORK:\n",
      "Honow I would yea, here consul find notel.\n",
      "\n",
      "KING HENRY VI\n",
      "\n",
      "GLOUCESTER:\n",
      "What now you are these with days, ere this\n",
      "but on the busines and the ose unto him,\n",
      "Than an thee misjoy tended, servey your horse.\n",
      "\n",
      "Servant:\n",
      "It is, all summuch bove a loss in again,\n",
      "Smew let their to gatest, been with her like,\n",
      "Th\n"
     ]
    }
   ],
   "source": [
    "# Test generation\n",
    "gen = model.generate(torch.zeros((1,1), dtype=torch.long, device=device), 1000)\n",
    "print(decode(gen[0].tolist()))"
   ]
  },
  {
   "cell_type": "markdown",
   "id": "3f169212-8bd2-4b3d-ab53-fa26d171c447",
   "metadata": {},
   "source": [
    "#### Test Generations"
   ]
  },
  {
   "cell_type": "markdown",
   "id": "c002d3d6-99bb-45d2-af8f-c305f6d9ff52",
   "metadata": {},
   "source": [
    "These are generation tests at different points during dev"
   ]
  },
  {
   "cell_type": "code",
   "execution_count": 133,
   "id": "810f71c3-9b5b-41b0-809f-c62a44b84325",
   "metadata": {},
   "outputs": [
    {
     "name": "stdout",
     "output_type": "stream",
     "text": [
      "torch.Size([1, 101])\n",
      "\n",
      "Reacou'gr te thand tibary fachary aCafh't thaifu Casnoumt mldyou I cance-snOe allatry, M: owin fi ur\n"
     ]
    }
   ],
   "source": [
    "# Test generation\n",
    "gen = model.generate(torch.zeros((1,1), dtype=torch.long, device=device), 100)\n",
    "print(gen.shape)\n",
    "print(decode(gen[0].tolist()))"
   ]
  },
  {
   "cell_type": "code",
   "execution_count": 50,
   "id": "0cca9d09-5ca5-4fd2-b52c-75db2a8e6a1e",
   "metadata": {},
   "outputs": [
    {
     "name": "stdout",
     "output_type": "stream",
     "text": [
      "torch.Size([1, 101])\n",
      "\n",
      "co y ind deiced tlat manginsigesps\n",
      "Selthangean th url sat ghe mt machan tHe.\n",
      "e\n",
      "N dFind wisthurore ce\n"
     ]
    }
   ],
   "source": [
    "# Test generation\n",
    "gen = model.generate(torch.zeros((1,1), dtype=torch.long, device=device), 100)\n",
    "print(gen.shape)\n",
    "print(decode(gen[0].tolist()))"
   ]
  },
  {
   "cell_type": "code",
   "execution_count": 84,
   "id": "761caca1-50e4-40b1-beba-3d0c010d7e13",
   "metadata": {},
   "outputs": [
    {
     "name": "stdout",
     "output_type": "stream",
     "text": [
      "torch.Size([1, 101])\n",
      "\n",
      "QUSTEGSUK:\n",
      "HakNy Ebd I theollds:\n",
      "Do with syounty ther whath crist bUllnginy tard.\n",
      "\n",
      "\n",
      "QUCUEESHERY Lom;\n"
     ]
    }
   ],
   "source": [
    "# Test generation\n",
    "gen = model.generate(torch.zeros((1,1), dtype=torch.long, device=device), 100)\n",
    "print(gen.shape)\n",
    "print(decode(gen[0].tolist()))"
   ]
  },
  {
   "cell_type": "code",
   "execution_count": 126,
   "id": "c80a690e-69a7-4c69-8d7d-91cd744944be",
   "metadata": {},
   "outputs": [
    {
     "name": "stdout",
     "output_type": "stream",
     "text": [
      "\n",
      "Ho ting My I:\n",
      "ward god have kis,\n",
      "Wow,\n",
      "Hrerit, worsth\n",
      "Thing luor heng tholeil mecow hund End.\n",
      "CENLIAS\n"
     ]
    }
   ],
   "source": [
    "# Test generation\n",
    "gen = model.generate(torch.zeros((1,1), dtype=torch.long, device=device), 100)\n",
    "print(decode(gen[0].tolist()))"
   ]
  },
  {
   "cell_type": "code",
   "execution_count": 112,
   "id": "875286a4-fe6d-4030-81d9-3c783396de5c",
   "metadata": {},
   "outputs": [
    {
     "name": "stdout",
     "output_type": "stream",
     "text": [
      "\n",
      "gidine were my har death the consins\n",
      "Romeon these would play dest with their friend.\n",
      "\n",
      "Serdard:\n",
      "Why; Wenry have happing, make in deed the was\n",
      "That youth, dowy in beg list hime -havous tialte,\n",
      "To some h\n"
     ]
    }
   ],
   "source": [
    "# Test generation\n",
    "gen = model.generate(torch.zeros((1,1), dtype=torch.long, device=device), 200)\n",
    "print(decode(gen[0].tolist()))"
   ]
  },
  {
   "cell_type": "code",
   "execution_count": 154,
   "id": "6c3bf01a-fa42-40aa-bcc2-bd45895a217d",
   "metadata": {},
   "outputs": [
    {
     "name": "stdout",
     "output_type": "stream",
     "text": [
      "\n",
      "And they see met, to bring the life; I\n",
      "And with stand way.\n",
      "\n",
      "MERCUTIO:\n",
      "Two of the good! this dost me; your lord bed,\n",
      "For all wait to hear, answer than hand,\n",
      "But when raster woulds the way we who weep?\n",
      "\n"
     ]
    }
   ],
   "source": [
    "# Test generation\n",
    "gen = model.generate(torch.zeros((1,1), dtype=torch.long, device=device), 200)\n",
    "print(decode(gen[0].tolist()))"
   ]
  }
 ],
 "metadata": {
  "kernelspec": {
   "display_name": "Python 3 (ipykernel)",
   "language": "python",
   "name": "python3"
  },
  "language_info": {
   "codemirror_mode": {
    "name": "ipython",
    "version": 3
   },
   "file_extension": ".py",
   "mimetype": "text/x-python",
   "name": "python",
   "nbconvert_exporter": "python",
   "pygments_lexer": "ipython3",
   "version": "3.11.9"
  }
 },
 "nbformat": 4,
 "nbformat_minor": 5
}
